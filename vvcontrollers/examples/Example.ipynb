{
 "cells": [
  {
   "cell_type": "code",
   "execution_count": 1,
   "metadata": {},
   "outputs": [],
   "source": [
    "from vvcontrollers import (\n",
    "    DialogController,\n",
    "    CoreController,\n",
    "    MenuController,\n",
    "    ApplicationVoilaVuetify\n",
    ")"
   ]
  },
  {
   "cell_type": "code",
   "execution_count": 2,
   "metadata": {},
   "outputs": [],
   "source": [
    "dialog = DialogController()\n",
    "core = CoreController(dialog)\n",
    "menu = MenuController()"
   ]
  },
  {
   "cell_type": "code",
   "execution_count": 3,
   "metadata": {},
   "outputs": [],
   "source": [
    "from vvcontrollers import AbstrController\n",
    "import ipyvuetify as v\n",
    "\n",
    "class MockController(AbstrController):\n",
    "    def __init__(self, name):\n",
    "        super().__init__(name)\n",
    "        \n",
    "        self.__btn = v.Btn(color=\"primary\", class_=\"ma-2\", small=True, children=[\n",
    "            v.Icon(left=True, children=[\"cloud_download\"]), \"Show dialog\"\n",
    "        ])\n",
    "        \n",
    "        def on_click(*arg):\n",
    "            self.show_dialog(\"Dialog\", \"Some content\")\n",
    "            \n",
    "        self.__btn.on_event('click', on_click)\n",
    "    \n",
    "    def _get_layout(self):\n",
    "        return v.Container(children=[\"This is a Mock controller.\", self.__btn])\n",
    "    \n",
    "class MockController2(AbstrController):\n",
    "    def __init__(self, name):\n",
    "        super().__init__(name)\n",
    "        \n",
    "        self.__btn = v.Btn(color=\"primary\", class_=\"ma-2\", small=True, children=[\n",
    "            v.Icon(left=True, children=[\"assessment\"]), \"Btn text\"\n",
    "        ])\n",
    "        \n",
    "        def on_click(*arg):\n",
    "            self.show_dialog(\"Dialog\", \"Some content\")\n",
    "            \n",
    "        self.__btn.on_event('click', on_click)\n",
    "    \n",
    "    def _get_layout(self):\n",
    "        return v.Container(children=[\"This is a Mock controller.\", self.__btn])"
   ]
  },
  {
   "cell_type": "code",
   "execution_count": 4,
   "metadata": {},
   "outputs": [],
   "source": [
    "mock = MockController(\"Mock\")\n",
    "mock2 = MockController2(\"Mock2\")"
   ]
  },
  {
   "cell_type": "code",
   "execution_count": 5,
   "metadata": {},
   "outputs": [],
   "source": [
    "menu.add_element(\"bug_report\", mock)\n",
    "menu.add_element(\"android\", mock2)"
   ]
  },
  {
   "cell_type": "code",
   "execution_count": 6,
   "metadata": {},
   "outputs": [
    {
     "data": {
      "application/vnd.jupyter.widget-view+json": {
       "model_id": "1fa322fcd4274a54972862d7435317a3",
       "version_major": 2,
       "version_minor": 0
      },
      "text/plain": [
       "Container(children=[Container(children=[List(children=[ListItem(children=[ListItemAction(children=[Icon(childr…"
      ]
     },
     "metadata": {},
     "output_type": "display_data"
    }
   ],
   "source": [
    "app = ApplicationVoilaVuetify(core, menu)\n",
    "app.render()"
   ]
  },
  {
   "cell_type": "code",
   "execution_count": null,
   "metadata": {},
   "outputs": [],
   "source": []
  }
 ],
 "metadata": {
  "kernelspec": {
   "display_name": "Python 3",
   "language": "python",
   "name": "python3"
  },
  "language_info": {
   "codemirror_mode": {
    "name": "ipython",
    "version": 3
   },
   "file_extension": ".py",
   "mimetype": "text/x-python",
   "name": "python",
   "nbconvert_exporter": "python",
   "pygments_lexer": "ipython3",
   "version": "3.7.3"
  }
 },
 "nbformat": 4,
 "nbformat_minor": 2
}
